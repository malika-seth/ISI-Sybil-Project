{
 "cells": [
  {
   "cell_type": "code",
   "execution_count": 1,
   "metadata": {},
   "outputs": [],
   "source": [
    "import pandas as pd\n",
    "from datetime import datetime\n",
    "import numpy as np\n",
    "from imblearn.over_sampling import SMOTE\n",
    "import matplotlib.pyplot as plt"
   ]
  },
  {
   "cell_type": "code",
   "execution_count": 2,
   "metadata": {},
   "outputs": [
    {
     "data": {
      "text/html": [
       "<div>\n",
       "<style scoped>\n",
       "    .dataframe tbody tr th:only-of-type {\n",
       "        vertical-align: middle;\n",
       "    }\n",
       "\n",
       "    .dataframe tbody tr th {\n",
       "        vertical-align: top;\n",
       "    }\n",
       "\n",
       "    .dataframe thead th {\n",
       "        text-align: right;\n",
       "    }\n",
       "</style>\n",
       "<table border=\"1\" class=\"dataframe\">\n",
       "  <thead>\n",
       "    <tr style=\"text-align: right;\">\n",
       "      <th></th>\n",
       "      <th>SPA1</th>\n",
       "      <th>SPA2</th>\n",
       "      <th>BATTLE_CNT</th>\n",
       "    </tr>\n",
       "  </thead>\n",
       "  <tbody>\n",
       "    <tr>\n",
       "      <td>0</td>\n",
       "      <td>00001DD103717A29AE6EAF27BC0E5DD8E03F0CAD177F2A...</td>\n",
       "      <td>0048E013B0F7958ACC52E538699ED1DE84D18E2B9620E9...</td>\n",
       "      <td>1</td>\n",
       "    </tr>\n",
       "    <tr>\n",
       "      <td>1</td>\n",
       "      <td>00001DD103717A29AE6EAF27BC0E5DD8E03F0CAD177F2A...</td>\n",
       "      <td>00DF9BA062D72A54D3C5688ED684078920922BC2583BA8...</td>\n",
       "      <td>1</td>\n",
       "    </tr>\n",
       "    <tr>\n",
       "      <td>2</td>\n",
       "      <td>00001DD103717A29AE6EAF27BC0E5DD8E03F0CAD177F2A...</td>\n",
       "      <td>0163ACCE4D7BA391CE6AF4610543DA424093A9B1AC3809...</td>\n",
       "      <td>1</td>\n",
       "    </tr>\n",
       "    <tr>\n",
       "      <td>3</td>\n",
       "      <td>00001DD103717A29AE6EAF27BC0E5DD8E03F0CAD177F2A...</td>\n",
       "      <td>0228B07CF15F38B83A42531AB6466F47D8029836AE520B...</td>\n",
       "      <td>1</td>\n",
       "    </tr>\n",
       "    <tr>\n",
       "      <td>4</td>\n",
       "      <td>00001DD103717A29AE6EAF27BC0E5DD8E03F0CAD177F2A...</td>\n",
       "      <td>03ED9339DF838206FE3788035FEB3CB864E37A56D2F943...</td>\n",
       "      <td>1</td>\n",
       "    </tr>\n",
       "  </tbody>\n",
       "</table>\n",
       "</div>"
      ],
      "text/plain": [
       "                                                SPA1  \\\n",
       "0  00001DD103717A29AE6EAF27BC0E5DD8E03F0CAD177F2A...   \n",
       "1  00001DD103717A29AE6EAF27BC0E5DD8E03F0CAD177F2A...   \n",
       "2  00001DD103717A29AE6EAF27BC0E5DD8E03F0CAD177F2A...   \n",
       "3  00001DD103717A29AE6EAF27BC0E5DD8E03F0CAD177F2A...   \n",
       "4  00001DD103717A29AE6EAF27BC0E5DD8E03F0CAD177F2A...   \n",
       "\n",
       "                                                SPA2  BATTLE_CNT  \n",
       "0  0048E013B0F7958ACC52E538699ED1DE84D18E2B9620E9...           1  \n",
       "1  00DF9BA062D72A54D3C5688ED684078920922BC2583BA8...           1  \n",
       "2  0163ACCE4D7BA391CE6AF4610543DA424093A9B1AC3809...           1  \n",
       "3  0228B07CF15F38B83A42531AB6466F47D8029836AE520B...           1  \n",
       "4  03ED9339DF838206FE3788035FEB3CB864E37A56D2F943...           1  "
      ]
     },
     "execution_count": 2,
     "metadata": {},
     "output_type": "execute_result"
    }
   ],
   "source": [
    "coplay = pd.read_csv(\"/mnt/data/ds_data/SHARED_RESOURCES/NETWORK_DATA_YEARS/Grouped_Jan2017-Feb2019.csv\")\n",
    "coplay_file = coplay.groupby(['SPA1','SPA2'])['BATTLE_CNT'].sum().reset_index()\n",
    "coplay_file.head()"
   ]
  },
  {
   "cell_type": "code",
   "execution_count": 3,
   "metadata": {},
   "outputs": [
    {
     "data": {
      "text/html": [
       "<div>\n",
       "<style scoped>\n",
       "    .dataframe tbody tr th:only-of-type {\n",
       "        vertical-align: middle;\n",
       "    }\n",
       "\n",
       "    .dataframe tbody tr th {\n",
       "        vertical-align: top;\n",
       "    }\n",
       "\n",
       "    .dataframe thead th {\n",
       "        text-align: right;\n",
       "    }\n",
       "</style>\n",
       "<table border=\"1\" class=\"dataframe\">\n",
       "  <thead>\n",
       "    <tr style=\"text-align: right;\">\n",
       "      <th></th>\n",
       "      <th>SPA</th>\n",
       "      <th>Coplay_count</th>\n",
       "    </tr>\n",
       "  </thead>\n",
       "  <tbody>\n",
       "    <tr>\n",
       "      <td>0</td>\n",
       "      <td>00001DD103717A29AE6EAF27BC0E5DD8E03F0CAD177F2A...</td>\n",
       "      <td>66</td>\n",
       "    </tr>\n",
       "    <tr>\n",
       "      <td>1</td>\n",
       "      <td>00003C737E6C04AB485320F2EE39F3DEF153CA065B303F...</td>\n",
       "      <td>2</td>\n",
       "    </tr>\n",
       "    <tr>\n",
       "      <td>2</td>\n",
       "      <td>000057AAF844EE943845732F1E2C512BF0B26DBB2B70BD...</td>\n",
       "      <td>3</td>\n",
       "    </tr>\n",
       "    <tr>\n",
       "      <td>3</td>\n",
       "      <td>00008E03280B09D31452D8A5BACD54B565394A283EB34C...</td>\n",
       "      <td>41</td>\n",
       "    </tr>\n",
       "    <tr>\n",
       "      <td>4</td>\n",
       "      <td>0000BC1E957A5DE86D6742F0304DD12F6C5B53BEE1A67B...</td>\n",
       "      <td>5</td>\n",
       "    </tr>\n",
       "  </tbody>\n",
       "</table>\n",
       "</div>"
      ],
      "text/plain": [
       "                                                 SPA  Coplay_count\n",
       "0  00001DD103717A29AE6EAF27BC0E5DD8E03F0CAD177F2A...            66\n",
       "1  00003C737E6C04AB485320F2EE39F3DEF153CA065B303F...             2\n",
       "2  000057AAF844EE943845732F1E2C512BF0B26DBB2B70BD...             3\n",
       "3  00008E03280B09D31452D8A5BACD54B565394A283EB34C...            41\n",
       "4  0000BC1E957A5DE86D6742F0304DD12F6C5B53BEE1A67B...             5"
      ]
     },
     "execution_count": 3,
     "metadata": {},
     "output_type": "execute_result"
    }
   ],
   "source": [
    "coplay_agg1 = coplay_file.groupby(['SPA1']).agg({\"SPA2\": \"count\"}).reset_index()\n",
    "coplay_agg2 = coplay_file.groupby(['SPA2']).agg({\"SPA1\": \"count\"}).reset_index()\n",
    "coplay_agg1.columns = ['SPA', 'Coplay_count'] \n",
    "coplay_agg2.columns = ['SPA', 'Coplay_count'] \n",
    "coplay_data = pd.concat([coplay_agg1, coplay_agg2]).groupby([\"SPA\"], as_index=False)[\"Coplay_count\"].sum()\n",
    "coplay_data.head()"
   ]
  },
  {
   "cell_type": "code",
   "execution_count": 4,
   "metadata": {},
   "outputs": [],
   "source": [
    "survey_file = pd.read_csv(\"/mnt/data/ds_data/SHARED_RESOURCES/updated_second_batch.csv\", encoding='latin-1')\n",
    "survey_file = survey_file.iloc[:,[1,4,5,6,7,10]]\n",
    "survey_file.shape\n",
    "survey_file['month_id']= pd.to_datetime(survey_file['month_id'])\n",
    "survey_file = survey_file.set_index('month_id')\n",
    "survey_file = survey_file['2017-01-01':'2019-02-28']\n",
    "survey_file.reset_index(drop=True, inplace=True)\n",
    "survey_file = survey_file.groupby(['spa_key_sha256']).agg({\"bttl_total_cnt\": \"sum\", \"bttl_wins_cnt\": \"sum\",\"max_tier_used_mm\": \"max\",\"global_rating\": \"max\"})"
   ]
  },
  {
   "cell_type": "code",
   "execution_count": 5,
   "metadata": {},
   "outputs": [
    {
     "data": {
      "text/html": [
       "<div>\n",
       "<style scoped>\n",
       "    .dataframe tbody tr th:only-of-type {\n",
       "        vertical-align: middle;\n",
       "    }\n",
       "\n",
       "    .dataframe tbody tr th {\n",
       "        vertical-align: top;\n",
       "    }\n",
       "\n",
       "    .dataframe thead th {\n",
       "        text-align: right;\n",
       "    }\n",
       "</style>\n",
       "<table border=\"1\" class=\"dataframe\">\n",
       "  <thead>\n",
       "    <tr style=\"text-align: right;\">\n",
       "      <th></th>\n",
       "      <th>spa_key_sha256</th>\n",
       "      <th>bttl_total_cnt</th>\n",
       "      <th>bttl_wins_cnt</th>\n",
       "      <th>max_tier_used_mm</th>\n",
       "      <th>global_rating</th>\n",
       "      <th>Coplay_count</th>\n",
       "    </tr>\n",
       "  </thead>\n",
       "  <tbody>\n",
       "    <tr>\n",
       "      <td>0</td>\n",
       "      <td>00000714D508E2E8920AB7F66B9566D46172A02EA50BD7...</td>\n",
       "      <td>18</td>\n",
       "      <td>9</td>\n",
       "      <td>3</td>\n",
       "      <td>74</td>\n",
       "      <td>72.0</td>\n",
       "    </tr>\n",
       "    <tr>\n",
       "      <td>1</td>\n",
       "      <td>00001DD103717A29AE6EAF27BC0E5DD8E03F0CAD177F2A...</td>\n",
       "      <td>7460</td>\n",
       "      <td>3656</td>\n",
       "      <td>10</td>\n",
       "      <td>4574</td>\n",
       "      <td>66.0</td>\n",
       "    </tr>\n",
       "    <tr>\n",
       "      <td>2</td>\n",
       "      <td>000024EA5B64414688664675D362C6B609CF422AF4F2F3...</td>\n",
       "      <td>27</td>\n",
       "      <td>12</td>\n",
       "      <td>5</td>\n",
       "      <td>2421</td>\n",
       "      <td>72.0</td>\n",
       "    </tr>\n",
       "    <tr>\n",
       "      <td>3</td>\n",
       "      <td>0000290505D808A4E9F8829E118E1546DBF6FD65B7F502...</td>\n",
       "      <td>3</td>\n",
       "      <td>2</td>\n",
       "      <td>4</td>\n",
       "      <td>1235</td>\n",
       "      <td>72.0</td>\n",
       "    </tr>\n",
       "    <tr>\n",
       "      <td>4</td>\n",
       "      <td>00002A428C3F8EA6D46AC382DC935D41EBD8E578BCD5CB...</td>\n",
       "      <td>23</td>\n",
       "      <td>9</td>\n",
       "      <td>2</td>\n",
       "      <td>157</td>\n",
       "      <td>72.0</td>\n",
       "    </tr>\n",
       "  </tbody>\n",
       "</table>\n",
       "</div>"
      ],
      "text/plain": [
       "                                      spa_key_sha256  bttl_total_cnt  \\\n",
       "0  00000714D508E2E8920AB7F66B9566D46172A02EA50BD7...              18   \n",
       "1  00001DD103717A29AE6EAF27BC0E5DD8E03F0CAD177F2A...            7460   \n",
       "2  000024EA5B64414688664675D362C6B609CF422AF4F2F3...              27   \n",
       "3  0000290505D808A4E9F8829E118E1546DBF6FD65B7F502...               3   \n",
       "4  00002A428C3F8EA6D46AC382DC935D41EBD8E578BCD5CB...              23   \n",
       "\n",
       "   bttl_wins_cnt  max_tier_used_mm  global_rating  Coplay_count  \n",
       "0              9                 3             74          72.0  \n",
       "1           3656                10           4574          66.0  \n",
       "2             12                 5           2421          72.0  \n",
       "3              2                 4           1235          72.0  \n",
       "4              9                 2            157          72.0  "
      ]
     },
     "execution_count": 5,
     "metadata": {},
     "output_type": "execute_result"
    }
   ],
   "source": [
    "#to be used later = 268,684 entries\n",
    "join_features = survey_file.join(coplay_data.set_index('SPA'), on='spa_key_sha256')\n",
    "\n",
    "coplay_mean = coplay_data['Coplay_count'].mean()\n",
    "join_features['Coplay_count'] = join_features['Coplay_count'].fillna(coplay_mean)\n",
    "join_features['Coplay_count'] = join_features['Coplay_count'].round()\n",
    "join_features.reset_index(inplace=True)\n",
    "join_features.head()"
   ]
  },
  {
   "cell_type": "code",
   "execution_count": 6,
   "metadata": {},
   "outputs": [
    {
     "data": {
      "text/html": [
       "<div>\n",
       "<style scoped>\n",
       "    .dataframe tbody tr th:only-of-type {\n",
       "        vertical-align: middle;\n",
       "    }\n",
       "\n",
       "    .dataframe tbody tr th {\n",
       "        vertical-align: top;\n",
       "    }\n",
       "\n",
       "    .dataframe thead th {\n",
       "        text-align: right;\n",
       "    }\n",
       "</style>\n",
       "<table border=\"1\" class=\"dataframe\">\n",
       "  <thead>\n",
       "    <tr style=\"text-align: right;\">\n",
       "      <th></th>\n",
       "      <th>Unnamed: 0</th>\n",
       "      <th>PARENT_SPA_KEY</th>\n",
       "      <th>PARENT_STARTED_AT</th>\n",
       "      <th>CHILD_SPA_KEY</th>\n",
       "      <th>CHILD_STARTED_AT</th>\n",
       "      <th>RANK_OF_CHILD</th>\n",
       "    </tr>\n",
       "  </thead>\n",
       "  <tbody>\n",
       "    <tr>\n",
       "      <td>0</td>\n",
       "      <td>108</td>\n",
       "      <td>658CDFD65103B78226828BA1EF405150A3615CF13DE410...</td>\n",
       "      <td>26-JUN-15</td>\n",
       "      <td>55250E954219DDB757D7FBD9AFB6FBB249EFAF69E9DE4A...</td>\n",
       "      <td>06-JAN-16</td>\n",
       "      <td>1</td>\n",
       "    </tr>\n",
       "    <tr>\n",
       "      <td>1</td>\n",
       "      <td>112</td>\n",
       "      <td>75CEA7828759FE157E838A4E8EE64190876AC50257825B...</td>\n",
       "      <td>23-JUN-15</td>\n",
       "      <td>35FE10DE6F56666254FC45D7B86D3793780723F68F53B6...</td>\n",
       "      <td>02-NOV-15</td>\n",
       "      <td>1</td>\n",
       "    </tr>\n",
       "    <tr>\n",
       "      <td>2</td>\n",
       "      <td>125</td>\n",
       "      <td>50B6FBDF2EEAA03BFC48BCBEF2E9AF55E12B87808C8213...</td>\n",
       "      <td>16-JUL-15</td>\n",
       "      <td>3C9B848EDF94730F264F5154DC3DEEE52315DC654F9381...</td>\n",
       "      <td>17-JUL-15</td>\n",
       "      <td>1</td>\n",
       "    </tr>\n",
       "    <tr>\n",
       "      <td>3</td>\n",
       "      <td>204</td>\n",
       "      <td>918AB7B7929DEBA24B8996D4D8B52D8532C6A0FC77FDAC...</td>\n",
       "      <td>06-NOV-15</td>\n",
       "      <td>22F853DC155D2F35D5EC495FE8254CE27356D75105604A...</td>\n",
       "      <td>01-JAN-16</td>\n",
       "      <td>1</td>\n",
       "    </tr>\n",
       "    <tr>\n",
       "      <td>4</td>\n",
       "      <td>577</td>\n",
       "      <td>305E76BA82F34E1E987839FFD856112C4F6FB3F2B514F7...</td>\n",
       "      <td>24-JUN-15</td>\n",
       "      <td>2B6E46A6F6A46F7145A3E08A7D00CDB038F3DA1FC7D9B3...</td>\n",
       "      <td>27-JAN-17</td>\n",
       "      <td>3</td>\n",
       "    </tr>\n",
       "  </tbody>\n",
       "</table>\n",
       "</div>"
      ],
      "text/plain": [
       "   Unnamed: 0                                     PARENT_SPA_KEY  \\\n",
       "0         108  658CDFD65103B78226828BA1EF405150A3615CF13DE410...   \n",
       "1         112  75CEA7828759FE157E838A4E8EE64190876AC50257825B...   \n",
       "2         125  50B6FBDF2EEAA03BFC48BCBEF2E9AF55E12B87808C8213...   \n",
       "3         204  918AB7B7929DEBA24B8996D4D8B52D8532C6A0FC77FDAC...   \n",
       "4         577  305E76BA82F34E1E987839FFD856112C4F6FB3F2B514F7...   \n",
       "\n",
       "  PARENT_STARTED_AT                                      CHILD_SPA_KEY  \\\n",
       "0         26-JUN-15  55250E954219DDB757D7FBD9AFB6FBB249EFAF69E9DE4A...   \n",
       "1         23-JUN-15  35FE10DE6F56666254FC45D7B86D3793780723F68F53B6...   \n",
       "2         16-JUL-15  3C9B848EDF94730F264F5154DC3DEEE52315DC654F9381...   \n",
       "3         06-NOV-15  22F853DC155D2F35D5EC495FE8254CE27356D75105604A...   \n",
       "4         24-JUN-15  2B6E46A6F6A46F7145A3E08A7D00CDB038F3DA1FC7D9B3...   \n",
       "\n",
       "  CHILD_STARTED_AT  RANK_OF_CHILD  \n",
       "0        06-JAN-16              1  \n",
       "1        02-NOV-15              1  \n",
       "2        17-JUL-15              1  \n",
       "3        01-JAN-16              1  \n",
       "4        27-JAN-17              3  "
      ]
     },
     "execution_count": 6,
     "metadata": {},
     "output_type": "execute_result"
    }
   ],
   "source": [
    "twinks_file = pd.read_csv(\"/mnt/data/ds_data/SHARED_RESOURCES/TWINK_DATA/twinks_new.csv\")\n",
    "twinks_file.head()"
   ]
  },
  {
   "cell_type": "code",
   "execution_count": 7,
   "metadata": {},
   "outputs": [
    {
     "data": {
      "text/plain": [
       "(390602, 2)"
      ]
     },
     "execution_count": 7,
     "metadata": {},
     "output_type": "execute_result"
    }
   ],
   "source": [
    "twink_parent = twinks_file.iloc[:,[1]]\n",
    "twink_parent = pd.DataFrame(twink_parent['PARENT_SPA_KEY'].drop_duplicates())\n",
    "twink_child = twinks_file.iloc[:,[3]]\n",
    "twink_child = pd.DataFrame(twink_child['CHILD_SPA_KEY'].drop_duplicates())\n",
    "twink_pc = twink_parent.join(twink_child.set_index('CHILD_SPA_KEY'),how='outer', on='PARENT_SPA_KEY')\n",
    "twink_pc['sybil_status'] = 1\n",
    "twink_pc.shape"
   ]
  },
  {
   "cell_type": "code",
   "execution_count": 8,
   "metadata": {},
   "outputs": [],
   "source": [
    "join_features = join_features.join(twink_pc.set_index('PARENT_SPA_KEY'), on='spa_key_sha256')\n",
    "join_features['sybil_status'] = join_features['sybil_status'].fillna(0.0)"
   ]
  },
  {
   "cell_type": "code",
   "execution_count": 9,
   "metadata": {},
   "outputs": [
    {
     "data": {
      "text/html": [
       "<div>\n",
       "<style scoped>\n",
       "    .dataframe tbody tr th:only-of-type {\n",
       "        vertical-align: middle;\n",
       "    }\n",
       "\n",
       "    .dataframe tbody tr th {\n",
       "        vertical-align: top;\n",
       "    }\n",
       "\n",
       "    .dataframe thead th {\n",
       "        text-align: right;\n",
       "    }\n",
       "</style>\n",
       "<table border=\"1\" class=\"dataframe\">\n",
       "  <thead>\n",
       "    <tr style=\"text-align: right;\">\n",
       "      <th></th>\n",
       "      <th>bttl_total_cnt</th>\n",
       "      <th>bttl_wins_cnt</th>\n",
       "      <th>max_tier_used_mm</th>\n",
       "      <th>global_rating</th>\n",
       "      <th>Coplay_count</th>\n",
       "      <th>sybil_status</th>\n",
       "    </tr>\n",
       "  </thead>\n",
       "  <tbody>\n",
       "    <tr>\n",
       "      <td>0</td>\n",
       "      <td>18</td>\n",
       "      <td>9</td>\n",
       "      <td>3</td>\n",
       "      <td>74</td>\n",
       "      <td>72.0</td>\n",
       "      <td>0.0</td>\n",
       "    </tr>\n",
       "    <tr>\n",
       "      <td>1</td>\n",
       "      <td>7460</td>\n",
       "      <td>3656</td>\n",
       "      <td>10</td>\n",
       "      <td>4574</td>\n",
       "      <td>66.0</td>\n",
       "      <td>1.0</td>\n",
       "    </tr>\n",
       "    <tr>\n",
       "      <td>2</td>\n",
       "      <td>27</td>\n",
       "      <td>12</td>\n",
       "      <td>5</td>\n",
       "      <td>2421</td>\n",
       "      <td>72.0</td>\n",
       "      <td>0.0</td>\n",
       "    </tr>\n",
       "    <tr>\n",
       "      <td>3</td>\n",
       "      <td>3</td>\n",
       "      <td>2</td>\n",
       "      <td>4</td>\n",
       "      <td>1235</td>\n",
       "      <td>72.0</td>\n",
       "      <td>0.0</td>\n",
       "    </tr>\n",
       "    <tr>\n",
       "      <td>4</td>\n",
       "      <td>23</td>\n",
       "      <td>9</td>\n",
       "      <td>2</td>\n",
       "      <td>157</td>\n",
       "      <td>72.0</td>\n",
       "      <td>0.0</td>\n",
       "    </tr>\n",
       "  </tbody>\n",
       "</table>\n",
       "</div>"
      ],
      "text/plain": [
       "   bttl_total_cnt  bttl_wins_cnt  max_tier_used_mm  global_rating  \\\n",
       "0              18              9                 3             74   \n",
       "1            7460           3656                10           4574   \n",
       "2              27             12                 5           2421   \n",
       "3               3              2                 4           1235   \n",
       "4              23              9                 2            157   \n",
       "\n",
       "   Coplay_count  sybil_status  \n",
       "0          72.0           0.0  \n",
       "1          66.0           1.0  \n",
       "2          72.0           0.0  \n",
       "3          72.0           0.0  \n",
       "4          72.0           0.0  "
      ]
     },
     "execution_count": 9,
     "metadata": {},
     "output_type": "execute_result"
    }
   ],
   "source": [
    "sha_removed_df = join_features.drop('spa_key_sha256',axis = 1)\n",
    "sha_removed_df.head()"
   ]
  },
  {
   "cell_type": "code",
   "execution_count": 10,
   "metadata": {},
   "outputs": [
    {
     "name": "stdout",
     "output_type": "stream",
     "text": [
      "before length of data is  1239146\n",
      "after smote length of oversampled data is  1472732\n",
      "Number of no sybil in oversampled data 736366\n",
      "Number of sybil 736366\n",
      "Proportion of no sybil data in oversampled data is  0.5\n",
      "Proportion of sybil data in oversampled data is  0.5\n"
     ]
    }
   ],
   "source": [
    "from sklearn.model_selection import train_test_split\n",
    "\n",
    "os = SMOTE(sampling_strategy='minority', random_state=4)\n",
    "X_train, X_test, y_train, y_test = train_test_split(join_features.drop(['sybil_status','spa_key_sha256'],axis=1), \n",
    "           join_features['sybil_status'], test_size=0.30, \n",
    "            random_state=4)\n",
    "columns = X_train.columns\n",
    "os_data_X,os_data_y=os.fit_sample(X_train, y_train.values.ravel())\n",
    "os_data_X = pd.DataFrame(data=os_data_X,columns=columns )\n",
    "os_data_y= pd.DataFrame(data=os_data_y,columns=['sybil_status'])\n",
    "# we can Check the numbers of our data\n",
    "print(\"before length of data is \",len(join_features.drop(['sybil_status','spa_key_sha256'],axis=1)))\n",
    "print(\"after smote length of oversampled data is \",len(os_data_X))\n",
    "print(\"Number of no sybil in oversampled data\",len(os_data_y[os_data_y['sybil_status']==0]))\n",
    "print(\"Number of sybil\",len(os_data_y[os_data_y['sybil_status']==1]))\n",
    "print(\"Proportion of no sybil data in oversampled data is \",len(os_data_y[os_data_y['sybil_status']==0])/len(os_data_X))\n",
    "print(\"Proportion of sybil data in oversampled data is \",len(os_data_y[os_data_y['sybil_status']==1])/len(os_data_X))"
   ]
  },
  {
   "cell_type": "code",
   "execution_count": 11,
   "metadata": {},
   "outputs": [
    {
     "data": {
      "text/html": [
       "<div>\n",
       "<style scoped>\n",
       "    .dataframe tbody tr th:only-of-type {\n",
       "        vertical-align: middle;\n",
       "    }\n",
       "\n",
       "    .dataframe tbody tr th {\n",
       "        vertical-align: top;\n",
       "    }\n",
       "\n",
       "    .dataframe thead th {\n",
       "        text-align: right;\n",
       "    }\n",
       "</style>\n",
       "<table border=\"1\" class=\"dataframe\">\n",
       "  <thead>\n",
       "    <tr style=\"text-align: right;\">\n",
       "      <th></th>\n",
       "      <th>bttl_total_cnt</th>\n",
       "      <th>bttl_wins_cnt</th>\n",
       "      <th>max_tier_used_mm</th>\n",
       "      <th>global_rating</th>\n",
       "      <th>Coplay_count</th>\n",
       "    </tr>\n",
       "  </thead>\n",
       "  <tbody>\n",
       "    <tr>\n",
       "      <td>0</td>\n",
       "      <td>11.0</td>\n",
       "      <td>5.0</td>\n",
       "      <td>3.0</td>\n",
       "      <td>168.0</td>\n",
       "      <td>72.0</td>\n",
       "    </tr>\n",
       "    <tr>\n",
       "      <td>1</td>\n",
       "      <td>1804.0</td>\n",
       "      <td>848.0</td>\n",
       "      <td>8.0</td>\n",
       "      <td>2795.0</td>\n",
       "      <td>13.0</td>\n",
       "    </tr>\n",
       "    <tr>\n",
       "      <td>2</td>\n",
       "      <td>8.0</td>\n",
       "      <td>1.0</td>\n",
       "      <td>8.0</td>\n",
       "      <td>1239.0</td>\n",
       "      <td>72.0</td>\n",
       "    </tr>\n",
       "    <tr>\n",
       "      <td>3</td>\n",
       "      <td>597.0</td>\n",
       "      <td>278.0</td>\n",
       "      <td>6.0</td>\n",
       "      <td>2072.0</td>\n",
       "      <td>72.0</td>\n",
       "    </tr>\n",
       "    <tr>\n",
       "      <td>4</td>\n",
       "      <td>16.0</td>\n",
       "      <td>8.0</td>\n",
       "      <td>3.0</td>\n",
       "      <td>883.0</td>\n",
       "      <td>72.0</td>\n",
       "    </tr>\n",
       "  </tbody>\n",
       "</table>\n",
       "</div>"
      ],
      "text/plain": [
       "   bttl_total_cnt  bttl_wins_cnt  max_tier_used_mm  global_rating  \\\n",
       "0            11.0            5.0               3.0          168.0   \n",
       "1          1804.0          848.0               8.0         2795.0   \n",
       "2             8.0            1.0               8.0         1239.0   \n",
       "3           597.0          278.0               6.0         2072.0   \n",
       "4            16.0            8.0               3.0          883.0   \n",
       "\n",
       "   Coplay_count  \n",
       "0          72.0  \n",
       "1          13.0  \n",
       "2          72.0  \n",
       "3          72.0  \n",
       "4          72.0  "
      ]
     },
     "execution_count": 11,
     "metadata": {},
     "output_type": "execute_result"
    }
   ],
   "source": [
    "os_data_X.head()"
   ]
  },
  {
   "cell_type": "code",
   "execution_count": 12,
   "metadata": {},
   "outputs": [
    {
     "name": "stderr",
     "output_type": "stream",
     "text": [
      "/opt/anaconda3/lib/python3.7/site-packages/sklearn/linear_model/logistic.py:432: FutureWarning: Default solver will be changed to 'lbfgs' in 0.22. Specify a solver to silence this warning.\n",
      "  FutureWarning)\n"
     ]
    },
    {
     "data": {
      "text/plain": [
       "LogisticRegression(C=1.0, class_weight=None, dual=False, fit_intercept=True,\n",
       "                   intercept_scaling=1, l1_ratio=None, max_iter=100,\n",
       "                   multi_class='warn', n_jobs=None, penalty='l2',\n",
       "                   random_state=None, solver='warn', tol=0.0001, verbose=0,\n",
       "                   warm_start=False)"
      ]
     },
     "execution_count": 12,
     "metadata": {},
     "output_type": "execute_result"
    }
   ],
   "source": [
    "#LOGISTIC REGRESSION\n",
    "from sklearn.linear_model import LogisticRegression\n",
    "#create an instance and fit the model \n",
    "logmodel = LogisticRegression()\n",
    "logmodel.fit(os_data_X, os_data_y.values.ravel())"
   ]
  },
  {
   "cell_type": "code",
   "execution_count": 13,
   "metadata": {},
   "outputs": [
    {
     "name": "stdout",
     "output_type": "stream",
     "text": [
      "              precision    recall  f1-score   support\n",
      "\n",
      "         0.0     0.8986    0.6250    0.7372    315553\n",
      "         1.0     0.2229    0.6042    0.3257     56191\n",
      "\n",
      "    accuracy                         0.6218    371744\n",
      "   macro avg     0.5608    0.6146    0.5314    371744\n",
      "weighted avg     0.7965    0.6218    0.6750    371744\n",
      "\n"
     ]
    }
   ],
   "source": [
    "#predictions\n",
    "Predictions = logmodel.predict(X_test)\n",
    "\n",
    "from sklearn.metrics import classification_report\n",
    "print(classification_report(y_test,Predictions,digits=4))"
   ]
  },
  {
   "cell_type": "code",
   "execution_count": 14,
   "metadata": {},
   "outputs": [
    {
     "name": "stdout",
     "output_type": "stream",
     "text": [
      "[[197210 118343]\n",
      " [ 22243  33948]]\n"
     ]
    }
   ],
   "source": [
    "from sklearn.metrics import confusion_matrix\n",
    "print(confusion_matrix(y_test, Predictions))"
   ]
  },
  {
   "cell_type": "code",
   "execution_count": 15,
   "metadata": {},
   "outputs": [
    {
     "name": "stdout",
     "output_type": "stream",
     "text": [
      "Feature: 0, Score: -0.00005\n",
      "Feature: 1, Score: 0.00006\n",
      "Feature: 2, Score: 0.10843\n",
      "Feature: 3, Score: 0.00014\n",
      "Feature: 4, Score: 0.00029\n"
     ]
    },
    {
     "data": {
      "image/png": "[encoded data removed]",
      "text/plain": [
       "<Figure size 432x288 with 1 Axes>"
      ]
     },
     "metadata": {
      "needs_background": "light"
     },
     "output_type": "display_data"
    }
   ],
   "source": [
    "%matplotlib inline\n",
    "#from matplotlib import pyplot\n",
    "# get importance\n",
    "importance = logmodel.coef_[0]\n",
    "# summarize feature importance\n",
    "for i,v in enumerate(importance):\n",
    "\tprint('Feature: %0d, Score: %.5f' % (i,v))\n",
    "# plot feature importance\n",
    "plt.bar([x for x in range(len(importance))], importance)\n",
    "plt.show()"
   ]
  },
  {
   "cell_type": "code",
   "execution_count": 16,
   "metadata": {},
   "outputs": [
    {
     "name": "stdout",
     "output_type": "stream",
     "text": [
      "Root Mean Squared Error: 0.6149630943981993\n"
     ]
    }
   ],
   "source": [
    "from sklearn.metrics import mean_squared_error\n",
    "print('Root Mean Squared Error:', np.sqrt(mean_squared_error(Predictions, y_test)))"
   ]
  },
  {
   "cell_type": "code",
   "execution_count": 17,
   "metadata": {},
   "outputs": [],
   "source": [
    "from sklearn.preprocessing import MinMaxScaler\n",
    "\n",
    "scaler = MinMaxScaler()\n",
    "Xtrain_scale = scaler.fit_transform(os_data_X)\n",
    "Xtest_scale = scaler.transform(X_test)\n"
   ]
  },
  {
   "cell_type": "code",
   "execution_count": 18,
   "metadata": {},
   "outputs": [],
   "source": [
    "import seaborn as sns\n",
    "scaled_df = pd.DataFrame(Xtrain_scale, columns=['bttl_total_cnt', 'bttl_wins_cnt', 'max_tier_used_mm','global_rating','Coplay_count'])\n"
   ]
  },
  {
   "cell_type": "code",
   "execution_count": 19,
   "metadata": {
    "scrolled": true
   },
   "outputs": [
    {
     "data": {
      "image/png": "[encoded data removed]",
      "text/plain": [
       "<Figure size 432x360 with 2 Axes>"
      ]
     },
     "metadata": {
      "needs_background": "light"
     },
     "output_type": "display_data"
    }
   ],
   "source": [
    "fig, (ax1, ax2) = plt.subplots(ncols=2, figsize=(6, 5))\n",
    "ax1.set_title('Before Scaling')\n",
    "sns.kdeplot(os_data_X['bttl_total_cnt'], ax=ax1)\n",
    "sns.kdeplot(os_data_X['bttl_wins_cnt'], ax=ax1)\n",
    "sns.kdeplot(os_data_X['max_tier_used_mm'], ax=ax1)\n",
    "sns.kdeplot(os_data_X['global_rating'], ax=ax1)\n",
    "sns.kdeplot(os_data_X['Coplay_count'], ax=ax1)\n",
    "ax2.set_title('After Min-Max Scaling')\n",
    "sns.kdeplot(scaled_df['bttl_total_cnt'], ax=ax2)\n",
    "sns.kdeplot(scaled_df['bttl_wins_cnt'], ax=ax2)\n",
    "sns.kdeplot(scaled_df['max_tier_used_mm'], ax=ax2)\n",
    "sns.kdeplot(scaled_df['global_rating'], ax=ax2)\n",
    "sns.kdeplot(scaled_df['Coplay_count'], ax=ax2)\n",
    "plt.show()"
   ]
  },
  {
   "cell_type": "code",
   "execution_count": 20,
   "metadata": {},
   "outputs": [],
   "source": [
    "#RANDOM FOREST\n",
    "#Import Random Forest Model\n",
    "from sklearn.ensemble import RandomForestClassifier\n",
    "\n",
    "#Create a Classifier\n",
    "rand=RandomForestClassifier(n_estimators=100)\n",
    "\n",
    "#Train the model\n",
    "rand.fit(Xtrain_scale,os_data_y.values.ravel())\n",
    "\n",
    "y_pred=rand.predict(Xtest_scale)"
   ]
  },
  {
   "cell_type": "code",
   "execution_count": 21,
   "metadata": {},
   "outputs": [
    {
     "name": "stdout",
     "output_type": "stream",
     "text": [
      "              precision    recall  f1-score   support\n",
      "\n",
      "         0.0     0.8595    0.9053    0.8818    315553\n",
      "         1.0     0.2413    0.1692    0.1989     56191\n",
      "\n",
      "    accuracy                         0.7940    371744\n",
      "   macro avg     0.5504    0.5372    0.5403    371744\n",
      "weighted avg     0.7661    0.7940    0.7786    371744\n",
      "\n"
     ]
    }
   ],
   "source": [
    "print(classification_report(y_test,y_pred,digits=4))"
   ]
  },
  {
   "cell_type": "code",
   "execution_count": 22,
   "metadata": {},
   "outputs": [
    {
     "name": "stdout",
     "output_type": "stream",
     "text": [
      "Feature: 0, Score: 0.17008\n",
      "Feature: 1, Score: 0.17477\n",
      "Feature: 2, Score: 0.32343\n",
      "Feature: 3, Score: 0.26282\n",
      "Feature: 4, Score: 0.06890\n"
     ]
    },
    {
     "data": {
      "image/png": "[encoded data removed]",
      "text/plain": [
       "<Figure size 612x468 with 1 Axes>"
      ]
     },
     "metadata": {
      "needs_background": "light"
     },
     "output_type": "display_data"
    }
   ],
   "source": [
    "features = list(os_data_X.columns)\n",
    "importance = rand.feature_importances_\n",
    "# summarize feature importance\n",
    "for i,v in enumerate(importance):\n",
    "\tprint('Feature: %0d, Score: %.5f' % (i,v))\n",
    "# plot feature importance\n",
    "plt.bar(features, importance,color='#FFC72C')\n",
    "plt.xlabel('FEATURES')\n",
    "plt.ylabel('IMPORTANCE SCORE')\n",
    "fig = plt.gcf()\n",
    "fig.set_size_inches(8.5, 6.5,forward=True)\n",
    "plt.show()"
   ]
  },
  {
   "cell_type": "code",
   "execution_count": 23,
   "metadata": {},
   "outputs": [
    {
     "name": "stdout",
     "output_type": "stream",
     "text": [
      "Root Mean Squared Error: 0.4538655194960073\n"
     ]
    }
   ],
   "source": [
    "from sklearn.metrics import mean_squared_error\n",
    "print('Root Mean Squared Error:', np.sqrt(mean_squared_error(y_pred, y_test)))"
   ]
  }
 ],
 "metadata": {
  "kernelspec": {
   "display_name": "Python 3",
   "language": "python",
   "name": "python3"
  },
  "language_info": {
   "codemirror_mode": {
    "name": "ipython",
    "version": 3
   },
   "file_extension": ".py",
   "mimetype": "text/x-python",
   "name": "python",
   "nbconvert_exporter": "python",
   "pygments_lexer": "ipython3",
   "version": "3.7.4"
  }
 },
 "nbformat": 4,
 "nbformat_minor": 2
}
